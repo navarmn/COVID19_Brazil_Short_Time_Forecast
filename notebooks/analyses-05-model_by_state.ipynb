{
 "cells": [
  {
   "cell_type": "code",
   "execution_count": 1,
   "metadata": {},
   "outputs": [
    {
     "ename": "ModuleNotFoundError",
     "evalue": "No module named 'src'",
     "output_type": "error",
     "traceback": [
      "\u001b[0;31m---------------------------------------------------------------------------\u001b[0m",
      "\u001b[0;31mModuleNotFoundError\u001b[0m                       Traceback (most recent call last)",
      "\u001b[0;32m<ipython-input-1-2f7cc27f5e68>\u001b[0m in \u001b[0;36m<module>\u001b[0;34m\u001b[0m\n\u001b[1;32m      7\u001b[0m \u001b[0msys\u001b[0m\u001b[0;34m.\u001b[0m\u001b[0mpath\u001b[0m\u001b[0;34m.\u001b[0m\u001b[0mappend\u001b[0m\u001b[0;34m(\u001b[0m\u001b[0;34m'..'\u001b[0m\u001b[0;34m)\u001b[0m\u001b[0;34m\u001b[0m\u001b[0;34m\u001b[0m\u001b[0m\n\u001b[1;32m      8\u001b[0m \u001b[0;34m\u001b[0m\u001b[0m\n\u001b[0;32m----> 9\u001b[0;31m \u001b[0;32mfrom\u001b[0m \u001b[0msrc\u001b[0m \u001b[0;32mimport\u001b[0m \u001b[0mutils\u001b[0m\u001b[0;34m\u001b[0m\u001b[0;34m\u001b[0m\u001b[0m\n\u001b[0m\u001b[1;32m     10\u001b[0m \u001b[0;34m\u001b[0m\u001b[0m\n\u001b[1;32m     11\u001b[0m \u001b[0;32mfrom\u001b[0m \u001b[0mos\u001b[0m \u001b[0;32mimport\u001b[0m \u001b[0mpath\u001b[0m\u001b[0;34m\u001b[0m\u001b[0;34m\u001b[0m\u001b[0m\n",
      "\u001b[0;31mModuleNotFoundError\u001b[0m: No module named 'src'"
     ]
    }
   ],
   "source": [
    "import pandas as pd\n",
    "import numpy as np\n",
    "import seaborn as sns\n",
    "import matplotlib.pyplot as plt\n",
    "from datetime import datetime, timedelta\n",
    "import sys\n",
    "sys.path.append('..')\n",
    "\n",
    "from src import utils\n",
    "\n",
    "from os import path\n",
    "import joblib\n",
    "import collections"
   ]
  },
  {
   "cell_type": "code",
   "execution_count": null,
   "metadata": {},
   "outputs": [],
   "source": [
    "MODEL_DATE = '20-04-08'\n",
    "\n",
    "DATAFOLDER_PROCESSED = '/Users/navarmn/Work/Projects/2020-Corona/dev/covid19-data-processing/data/processed'\n",
    "DATAFOLDER_RAW = '/Users/navarmn/Work/Projects/2020-Corona/data/raw'\n",
    "\n",
    "STATES = ['AC', 'AL', 'AM', 'AP', 'BA', 'CE',\n",
    "         'DF', 'ES', 'GO', 'MA', 'MT', 'MS',\n",
    "         'MG', 'PA', 'PB', 'PR', 'PE', 'PI',\n",
    "         'RJ', 'RN', 'RO', 'RS', 'RR', 'SC',\n",
    "         'SE', 'SP', 'TO']\n",
    "\n",
    "MODELS = ['linear-polynomial', 'gpr', 'linear-regression']\n",
    "\n",
    "MODELS_DETAILS = {\n",
    "    'linear-polynomial': \"Liner Regression + Polynomial Features degree 4\",\n",
    "    'gpr': \"Gaussian Process Regressor - Kernel RBF\",\n",
    "    'linear-regression': \"Liner Regression - degree 1\"\n",
    "}\n",
    "\n",
    "MODELS_PATH = path.join('..', 'models')\n",
    "\n",
    "VERSION = 0.1"
   ]
  },
  {
   "cell_type": "code",
   "execution_count": null,
   "metadata": {},
   "outputs": [],
   "source": [
    "def load_models():\n",
    "    models = collections.defaultdict(dict)\n",
    "    models_metadata = collections.defaultdict(dict)\n",
    "    models_details = collections.defaultdict(dict)\n",
    "    models_names = collections.defaultdict(dict)\n",
    "\n",
    "    for state in STATES:\n",
    "        for model in MODELS:\n",
    "#             print('Loading model {} from state {}'.format(model, state))\n",
    "            # models\n",
    "            model_name = 'model-{}-{}-{}-{}.pkl'.format(state, MODEL_DATE, model, VERSION)\n",
    "            models[state][model] = joblib.load(path.join(MODELS_PATH, state, model_name))\n",
    "            models_names[state][model] = model_name\n",
    "            # metadata\n",
    "            models_metadata_name = 'model-{}-{}-{}-metadata-{}.pkl'.format(state, MODEL_DATE, model, VERSION)\n",
    "            models_metadata[state][model] = joblib.load(path.join(MODELS_PATH, state, models_metadata_name))\n",
    "            # details\n",
    "            models_details[state][model] = MODELS_DETAILS[model]\n",
    "\n",
    "\n",
    "    return models, models_metadata, models_details, models_names"
   ]
  },
  {
   "cell_type": "code",
   "execution_count": null,
   "metadata": {},
   "outputs": [],
   "source": [
    "df_states = {}\n",
    "models = collections.defaultdict(dict)\n",
    "\n",
    "for state in STATES:\n",
    "    df_states[state] = pd.read_csv(path.join(DATAFOLDER_PROCESSED, '{}.csv'.format(state)), index_col=0)\n",
    "    models, models_metadata, models_details, models_names= load_models()\n"
   ]
  },
  {
   "cell_type": "code",
   "execution_count": null,
   "metadata": {},
   "outputs": [],
   "source": [
    "df_states['CE']"
   ]
  },
  {
   "cell_type": "code",
   "execution_count": null,
   "metadata": {},
   "outputs": [],
   "source": [
    "models['CE']"
   ]
  },
  {
   "cell_type": "markdown",
   "metadata": {},
   "source": [
    "# Replicate the error"
   ]
  },
  {
   "cell_type": "code",
   "execution_count": null,
   "metadata": {},
   "outputs": [],
   "source": [
    "for state in STATES:\n",
    "    future=10\n",
    "\n",
    "    plt.figure(figsize=(15,10))\n",
    "\n",
    "    df_selected = df_states[state][df_states[state]['cases'] != 0]['cases']\n",
    "    # print(df_selected)\n",
    "    y = df_selected.values.reshape(-1,1)\n",
    "    dayone = df_selected.index[0]\n",
    "    print(state)\n",
    "    print(dayone)\n",
    "    X = np.array(utils.count_days(dayone=dayone, date_string='%d/%m/%Y')).reshape(-1,1)\n",
    "\n",
    "    X, y = utils.check_inputs(X, y)\n",
    "\n",
    "    print('X shape: {} \\n Y shape: {}'.format(X.shape, y.shape))\n",
    "\n",
    "    for model in MODELS:    \n",
    "        y_hat = models[state][model].predict(X)\n",
    "\n",
    "    #     out = utils.forecast(models[state][model], future=future, dayone=dayone, date_string='%d/%m/%Y')\n",
    "        X_fake = np.concatenate((X, np.arange(X[-1]+1, X[-1]+future+2, 1).reshape(-1,1)))\n",
    "        y_hat = models[state][model].predict(X_fake)\n",
    "\n",
    "        print('X fake shape: {} \\n Y hat shape: {}'.format(X_fake.shape, y_hat.shape))\n",
    "\n",
    "        plt.plot(X_fake, y_hat, label=model)\n",
    "\n",
    "    plt.plot(X, y, 'black', linewidth=4, label='Real data')\n",
    "\n",
    "    plt.legend(fontsize=22)\n",
    "\n",
    "    plt.title(state)\n",
    "    \n",
    "    plt.savefig('{}.png'.format(state))\n",
    "\n",
    "    plt.show()\n",
    "\n",
    "\n",
    "# np.concatenate((X, np.arange(X[-1]+1, X[-1]+future+1, 1).reshape(-1,1)))"
   ]
  },
  {
   "cell_type": "markdown",
   "metadata": {},
   "source": [
    "# Comparative of forecast and manually set"
   ]
  },
  {
   "cell_type": "code",
   "execution_count": 2,
   "metadata": {},
   "outputs": [
    {
     "ename": "NameError",
     "evalue": "name 'model' is not defined",
     "output_type": "error",
     "traceback": [
      "\u001b[0;31m---------------------------------------------------------------------------\u001b[0m",
      "\u001b[0;31mNameError\u001b[0m                                 Traceback (most recent call last)",
      "\u001b[0;32m<ipython-input-2-f736d2a3b7b0>\u001b[0m in \u001b[0;36m<module>\u001b[0;34m\u001b[0m\n\u001b[1;32m      1\u001b[0m \u001b[0mstate\u001b[0m \u001b[0;34m=\u001b[0m  \u001b[0;34m'CE'\u001b[0m\u001b[0;34m\u001b[0m\u001b[0;34m\u001b[0m\u001b[0m\n\u001b[1;32m      2\u001b[0m \u001b[0mfuture\u001b[0m \u001b[0;34m=\u001b[0m \u001b[0;36m10\u001b[0m\u001b[0;34m\u001b[0m\u001b[0;34m\u001b[0m\u001b[0m\n\u001b[0;32m----> 3\u001b[0;31m \u001b[0mprint\u001b[0m\u001b[0;34m(\u001b[0m\u001b[0mmodel\u001b[0m\u001b[0;34m)\u001b[0m\u001b[0;34m\u001b[0m\u001b[0;34m\u001b[0m\u001b[0m\n\u001b[0m\u001b[1;32m      4\u001b[0m \u001b[0;34m\u001b[0m\u001b[0m\n\u001b[1;32m      5\u001b[0m \u001b[0mdf_selected\u001b[0m \u001b[0;34m=\u001b[0m \u001b[0mdf_states\u001b[0m\u001b[0;34m[\u001b[0m\u001b[0mstate\u001b[0m\u001b[0;34m]\u001b[0m\u001b[0;34m[\u001b[0m\u001b[0mdf_states\u001b[0m\u001b[0;34m[\u001b[0m\u001b[0mstate\u001b[0m\u001b[0;34m]\u001b[0m\u001b[0;34m[\u001b[0m\u001b[0;34m'cases'\u001b[0m\u001b[0;34m]\u001b[0m \u001b[0;34m!=\u001b[0m \u001b[0;36m0\u001b[0m\u001b[0;34m]\u001b[0m\u001b[0;34m[\u001b[0m\u001b[0;34m'cases'\u001b[0m\u001b[0;34m]\u001b[0m\u001b[0;34m\u001b[0m\u001b[0;34m\u001b[0m\u001b[0m\n",
      "\u001b[0;31mNameError\u001b[0m: name 'model' is not defined"
     ]
    }
   ],
   "source": [
    "state =  'CE'\n",
    "future = 10\n",
    "print(model)\n",
    "\n",
    "df_selected = df_states[state][df_states[state]['cases'] != 0]['cases']\n",
    "y = df_selected.values.reshape(-1,1)\n",
    "dayone = df_selected.index[0]\n",
    "print(state)\n",
    "print(dayone)\n",
    "X = np.array(utils.count_days(dayone=dayone, date_string='%d/%m/%Y')).reshape(-1,1)\n",
    "X, y = utils.check_inputs(X, y)\n",
    "\n",
    "print('X shape: {} \\n Y shape: {}'.format(X.shape, y.shape))\n",
    "\n",
    "out = utils.forecast(models[state][model], future=future, dayone=dayone, date_string='%d/%m/%Y')\n",
    "# out = utils.forecast(models[state][model], future=future)\n",
    "X_fake = np.concatenate((X, np.arange(X[-1]+1, X[-1]+future+2, 1).reshape(-1,1)))\n",
    "y_hat = models[state][model].predict(X_fake)\n",
    "\n",
    "print('OUT: {}'.format(out))\n",
    "\n",
    "print('Y_hat {}'.format(y_hat[-10:]))"
   ]
  },
  {
   "cell_type": "markdown",
   "metadata": {},
   "source": [
    "# Negocio do pedrosa 2 exponencial"
   ]
  },
  {
   "cell_type": "code",
   "execution_count": 3,
   "metadata": {},
   "outputs": [
    {
     "ename": "NameError",
     "evalue": "name 'utils' is not defined",
     "output_type": "error",
     "traceback": [
      "\u001b[0;31m---------------------------------------------------------------------------\u001b[0m",
      "\u001b[0;31mNameError\u001b[0m                                 Traceback (most recent call last)",
      "\u001b[0;32m<ipython-input-3-402ada2a30c4>\u001b[0m in \u001b[0;36m<module>\u001b[0;34m\u001b[0m\n\u001b[0;32m----> 1\u001b[0;31m \u001b[0mdf_state\u001b[0m \u001b[0;34m=\u001b[0m \u001b[0mutils\u001b[0m\u001b[0;34m.\u001b[0m\u001b[0mdownload_state\u001b[0m\u001b[0;34m(\u001b[0m\u001b[0mstate\u001b[0m\u001b[0;34m=\u001b[0m\u001b[0;34m'CE'\u001b[0m\u001b[0;34m)\u001b[0m\u001b[0;34m\u001b[0m\u001b[0;34m\u001b[0m\u001b[0m\n\u001b[0m\u001b[1;32m      2\u001b[0m \u001b[0mdf_state\u001b[0m \u001b[0;34m=\u001b[0m \u001b[0mdf_state\u001b[0m\u001b[0;34m[\u001b[0m\u001b[0mdf_state\u001b[0m\u001b[0;34m[\u001b[0m\u001b[0;34m'cases'\u001b[0m\u001b[0;34m]\u001b[0m \u001b[0;34m!=\u001b[0m \u001b[0;36m0\u001b[0m\u001b[0;34m]\u001b[0m\u001b[0;34m\u001b[0m\u001b[0;34m\u001b[0m\u001b[0m\n\u001b[1;32m      3\u001b[0m \u001b[0;31m# print(df_state)\u001b[0m\u001b[0;34m\u001b[0m\u001b[0;34m\u001b[0m\u001b[0;34m\u001b[0m\u001b[0m\n\u001b[1;32m      4\u001b[0m \u001b[0mdayone\u001b[0m \u001b[0;34m=\u001b[0m \u001b[0mdf_state\u001b[0m\u001b[0;34m[\u001b[0m\u001b[0mdf_state\u001b[0m\u001b[0;34m[\u001b[0m\u001b[0;34m'cases'\u001b[0m\u001b[0;34m]\u001b[0m \u001b[0;34m!=\u001b[0m \u001b[0;36m0\u001b[0m\u001b[0;34m]\u001b[0m\u001b[0;34m.\u001b[0m\u001b[0mindex\u001b[0m\u001b[0;34m[\u001b[0m\u001b[0;36m0\u001b[0m\u001b[0;34m]\u001b[0m\u001b[0;34m\u001b[0m\u001b[0;34m\u001b[0m\u001b[0m\n\u001b[1;32m      5\u001b[0m \u001b[0mdays\u001b[0m \u001b[0;34m=\u001b[0m \u001b[0mnp\u001b[0m\u001b[0;34m.\u001b[0m\u001b[0marray\u001b[0m\u001b[0;34m(\u001b[0m\u001b[0mutils\u001b[0m\u001b[0;34m.\u001b[0m\u001b[0mcount_days\u001b[0m\u001b[0;34m(\u001b[0m\u001b[0mdayone\u001b[0m\u001b[0;34m=\u001b[0m\u001b[0mdayone\u001b[0m\u001b[0;34m,\u001b[0m \u001b[0mdate_string\u001b[0m\u001b[0;34m=\u001b[0m\u001b[0;34m'%d/%m/%Y'\u001b[0m\u001b[0;34m)\u001b[0m\u001b[0;34m)\u001b[0m\u001b[0;34m\u001b[0m\u001b[0;34m\u001b[0m\u001b[0m\n",
      "\u001b[0;31mNameError\u001b[0m: name 'utils' is not defined"
     ]
    }
   ],
   "source": [
    "df_state = utils.download_state(state='CE')\n",
    "df_state = df_state[df_state['cases'] != 0]\n",
    "# print(df_state)\n",
    "dayone = df_state[df_state['cases'] != 0].index[0]\n",
    "days = np.array(utils.count_days(dayone=dayone, date_string='%d/%m/%Y'))\n",
    "X = days.reshape(-1,1)\n",
    "# y = df_state['cases'].values.reshape(-1,1)\n",
    "y = utils.get_labels(df_state['cases']).reshape(-1,1)\n",
    "\n",
    "X, y = utils.check_inputs(X, y)"
   ]
  },
  {
   "cell_type": "code",
   "execution_count": 4,
   "metadata": {},
   "outputs": [],
   "source": [
    "from statsmodels.tsa.api import Holt\n",
    "\n",
    "def holt_predict(X, var_future, smoothing_level=0.5, smoothing_slope=0.05):\n",
    "    model_holt = Holt(X['y'], exponential=True).fit(smoothing_level=smoothing_level, smoothing_slope=smoothing_slope, optimized=False)\n",
    "    forecast = model_holt.forecast(var_future)\n",
    "\n",
    "    # Check if predictions are belows yesterday\n",
    "#     last_value = porra_df.iloc[-1]['y']\n",
    "#     forecast = utils.rescale_yhat(forecast.values, last_value)\n",
    "    return forecast"
   ]
  },
  {
   "cell_type": "markdown",
   "metadata": {},
   "source": [
    "## Train with the last 7 days"
   ]
  },
  {
   "cell_type": "code",
   "execution_count": 11,
   "metadata": {},
   "outputs": [
    {
     "name": "stderr",
     "output_type": "stream",
     "text": [
      "/Users/navarmn/Work/Projects/venvs/data-science/lib/python3.7/site-packages/statsmodels/tsa/base/tsa_model.py:218: ValueWarning: A date index has been provided, but it has no associated frequency information and so will be ignored when e.g. forecasting.\n",
      "  ' ignored when e.g. forecasting.', ValueWarning)\n",
      "/Users/navarmn/Work/Projects/venvs/data-science/lib/python3.7/site-packages/statsmodels/tsa/base/tsa_model.py:222: ValueWarning: A date index has been provided, but it is not monotonic and so will be ignored when e.g. forecasting.\n",
      "  ' forecasting.', ValueWarning)\n",
      "/Users/navarmn/Work/Projects/venvs/data-science/lib/python3.7/site-packages/statsmodels/tsa/base/tsa_model.py:583: ValueWarning: No supported index is available. Prediction results will be given with an integer index beginning at `start`.\n",
      "  ValueWarning)\n"
     ]
    },
    {
     "data": {
      "text/plain": [
       "array([2184.91924424, 2259.20578752, 2336.0180491 , 2415.44190258,\n",
       "       2497.56614123, 2582.48257727, 2670.2861445 , 2761.07500444,\n",
       "       2854.95065607, 2952.01804932, 3052.38570234, 3156.16582291,\n",
       "       3263.4744338 , 3374.43150254])"
      ]
     },
     "execution_count": 11,
     "metadata": {},
     "output_type": "execute_result"
    }
   ],
   "source": [
    "DAYS_TO_TRAIN = 7\n",
    "forecast_last_7 = holt_predict(utils.porra(df_state.iloc[-DAYS_TO_TRAIN:]), var_future=14)\n",
    "forecast_last_7.values"
   ]
  },
  {
   "cell_type": "markdown",
   "metadata": {},
   "source": [
    "## Train with the first 7 days and predict until now"
   ]
  },
  {
   "cell_type": "code",
   "execution_count": 12,
   "metadata": {},
   "outputs": [
    {
     "name": "stderr",
     "output_type": "stream",
     "text": [
      "/Users/navarmn/Work/Projects/venvs/data-science/lib/python3.7/site-packages/statsmodels/tsa/base/tsa_model.py:162: ValueWarning: No frequency information was provided, so inferred frequency D will be used.\n",
      "  % freq, ValueWarning)\n"
     ]
    },
    {
     "data": {
      "text/plain": [
       "array([  233.71984335,   293.77149952,   369.25274592,   464.1280403 ,\n",
       "         583.38046277,   733.2734392 ,   921.67971152,  1158.4948332 ,\n",
       "        1456.15690763,  1830.29986743,  2300.57460647,  2891.68109232,\n",
       "        3634.66566838,  4568.55168296,  5742.38908999,  7217.83067134,\n",
       "        9072.37019013, 11403.41255074, 14333.38974019, 18016.1912524 ,\n",
       "       22645.24673693, 28463.68539233, 35777.10570017, 44969.62619697,\n",
       "       56524.06030948, 71047.2748845 , 89302.0643046 ])"
      ]
     },
     "execution_count": 12,
     "metadata": {},
     "output_type": "execute_result"
    }
   ],
   "source": [
    "DAYS_TO_TRAIN = 7\n",
    "days_to_predict = df_state.shape[0] - DAYS_TO_TRAIN\n",
    "forecast_first_7 = holt_predict(utils.porra(df_state.iloc[:DAYS_TO_TRAIN]), var_future=days_to_predict)\n",
    "forecast_first_7.values"
   ]
  },
  {
   "cell_type": "code",
   "execution_count": 13,
   "metadata": {},
   "outputs": [
    {
     "name": "stderr",
     "output_type": "stream",
     "text": [
      "/Users/navarmn/Work/Projects/venvs/data-science/lib/python3.7/site-packages/statsmodels/tsa/base/tsa_model.py:218: ValueWarning: A date index has been provided, but it has no associated frequency information and so will be ignored when e.g. forecasting.\n",
      "  ' ignored when e.g. forecasting.', ValueWarning)\n",
      "/Users/navarmn/Work/Projects/venvs/data-science/lib/python3.7/site-packages/statsmodels/tsa/base/tsa_model.py:583: ValueWarning: No supported index is available. Prediction results will be given with an integer index beginning at `start`.\n",
      "  ValueWarning)\n"
     ]
    },
    {
     "data": {
      "text/plain": [
       "array([  800.79415026,   991.1633852 ,  1226.78825243,  1518.42717233,\n",
       "        1879.39611674,  2326.17660429,  2879.16823185,  3563.62010175,\n",
       "        4410.78367326,  5459.33967617,  6757.1642383 ,  8363.51486658,\n",
       "       10351.73609174, 12812.60831392, 15858.49275436, 19628.46176815,\n",
       "       24294.64876338, 30070.10765834, 37218.54073261, 46066.33903689])"
      ]
     },
     "execution_count": 13,
     "metadata": {},
     "output_type": "execute_result"
    }
   ],
   "source": [
    "DAYS_TO_TRAIN_2 = 14\n",
    "days_to_predict = df_state.shape[0] - DAYS_TO_TRAIN_2\n",
    "forecast_first_14 = holt_predict(utils.porra(df_state.iloc[:DAYS_TO_TRAIN_2]), var_future=days_to_predict)\n",
    "forecast_first_14.values"
   ]
  },
  {
   "cell_type": "code",
   "execution_count": 14,
   "metadata": {},
   "outputs": [
    {
     "data": {
      "image/png": "[encoded data removed]",
      "text/plain": [
       "<Figure size 1080x720 with 1 Axes>"
      ]
     },
     "metadata": {
      "needs_background": "light"
     },
     "output_type": "display_data"
    }
   ],
   "source": [
    "%matplotlib inline\n",
    "\n",
    "plt.figure(figsize=(15,10))\n",
    "\n",
    "plt.plot(X, y, 'black', linewidth=2, label='Real Data')\n",
    "plt.plot(X[DAYS_TO_TRAIN:], forecast_first_7.values[1:], label='Crescimento sem isolamento - 7 dias')\n",
    "plt.plot(X[DAYS_TO_TRAIN_2:], forecast_first_14.values[1:], label='Crescimento sem isolamento - 14 dias')\n",
    "plt.plot(np.arange(X[-1], X[-1]+14, 1), forecast_last_7.values, label='Predição futura')\n",
    "\n",
    "plt.legend(fontsize=22)\n",
    "plt.ylim(0, 10000)\n",
    "\n",
    "plt.savefig('Pedrosa.png'.format(state))\n",
    "\n",
    "plt.show()\n"
   ]
  },
  {
   "cell_type": "code",
   "execution_count": 15,
   "metadata": {},
   "outputs": [
    {
     "data": {
      "image/png": "[encoded data removed]",
      "text/plain": [
       "<Figure size 1080x720 with 1 Axes>"
      ]
     },
     "metadata": {
      "needs_background": "light"
     },
     "output_type": "display_data"
    }
   ],
   "source": [
    "import warnings\n",
    "warnings.filterwarnings(\"ignore\")\n",
    "\n",
    "STATES = ['AC', 'AL', 'AM', 'AP', 'BA', 'CE',\n",
    "         'DF', 'ES', 'GO', 'MA', 'MT', 'MS',\n",
    "         'MG', 'PA', 'PB', 'PR', 'PE', 'PI',\n",
    "         'RJ', 'RN', 'RO', 'RS', 'RR', 'SC',\n",
    "         'SE', 'SP', 'TO']\n",
    "\n",
    "STATES = ['TO']\n",
    "\n",
    "smoothing = 0.5\n",
    "slope = 0.05\n",
    "\n",
    "slope1 = 0.05\n",
    "slope2 = 0.05\n",
    "\n",
    "\n",
    "for state in STATES:\n",
    "    df_state = utils.download_state(state=state)\n",
    "    df_state = df_state[df_state['cases'] != 0]\n",
    "    # print(df_state)\n",
    "    dayone = df_state[df_state['cases'] != 0].index[0]\n",
    "    days = np.array(utils.count_days(dayone=dayone, date_string='%d/%m/%Y'))\n",
    "    X = days.reshape(-1,1)\n",
    "    # y = df_state['cases'].values.reshape(-1,1)\n",
    "    y = utils.get_labels(df_state['cases']).reshape(-1,1)\n",
    "\n",
    "    X, y = utils.check_inputs(X, y)\n",
    "\n",
    "    DAYS_TO_TRAIN = 7\n",
    "    forecast_last_7 = holt_predict(utils.porra(df_state.iloc[-DAYS_TO_TRAIN:]), var_future=14, smoothing_level=smoothing, smoothing_slope=slope)\n",
    "    y_last_7 = forecast_last_7.values\n",
    "    X_last_7 = np.arange(X[-1], X[-1]+14, 1)\n",
    "    X_last_7, y_last_7 = utils.check_inputs(X_last_7, y_last_7)\n",
    "    ds_last_7 = utils.format_date(df_state.iloc[-DAYS_TO_TRAIN:].index.tolist(), date_string_input='%d/%m/%Y')\n",
    "\n",
    "\n",
    "    \n",
    "    DAYS_TO_TRAIN_1 = 7\n",
    "    days_to_predict = df_state.shape[0] - DAYS_TO_TRAIN_1\n",
    "    forecast_first_7 = holt_predict(utils.porra(df_state.iloc[:DAYS_TO_TRAIN_1]), var_future=days_to_predict, smoothing_level=smoothing, smoothing_slope=slope1)\n",
    "    y_first_7 = forecast_first_7.values\n",
    "    X_first_7 = X[DAYS_TO_TRAIN_1:]\n",
    "    X_first_7, y_first_7 = utils.check_inputs(X_first_7, y_first_7)\n",
    "    ds_first_7 = utils.format_date(df_state.iloc[DAYS_TO_TRAIN_1:].index.tolist(), date_string_input='%d/%m/%Y')\n",
    "    \n",
    "    \n",
    "    DAYS_TO_TRAIN_2 = 14\n",
    "    days_to_predict = df_state.shape[0] - DAYS_TO_TRAIN_2\n",
    "    forecast_first_14 = holt_predict(utils.porra(df_state.iloc[:DAYS_TO_TRAIN_2]), var_future=days_to_predict, smoothing_level=smoothing, smoothing_slope=slope2)\n",
    "    y_first_14 = forecast_first_14.values\n",
    "    X_first_14 = X[DAYS_TO_TRAIN_2:]\n",
    "    X_first_14, y_first_14 = utils.check_inputs(X_first_14, y_first_14)\n",
    "    ds_first_14 = utils.format_date(df_state.iloc[DAYS_TO_TRAIN_2:].index.tolist(), date_string_input='%d/%m/%Y')\n",
    "    \n",
    "    \n",
    "    plt.figure(figsize=(15,10))\n",
    "\n",
    "    plt.plot(X, y, 'black', linewidth=2, label='Real Data')\n",
    "    plt.plot(X_first_7, y_first_7, label='Crescimento sem isolamento - 7 dias')\n",
    "    plt.plot(X_first_14, y_first_14, label='Crescimento sem isolamento - 14 dias')\n",
    "    plt.plot(X_last_7, y_last_7, label='Predição futura')\n",
    "\n",
    "    plt.legend(fontsize=22)\n",
    "    plt.ylim(0, y[-1]*10)\n",
    "\n",
    "    plt.savefig('{}-comparativo.png'.format(state))\n",
    "\n",
    "    plt.show()\n",
    "\n",
    "    exp_first_7 = {\n",
    "        'yhat':y_first_7,\n",
    "        'ds': ds_first_7,\n",
    "        'state': state,\n",
    "        'days': DAYS_TO_TRAIN_1,\n",
    "        'smoothing': smoothing,\n",
    "        'slope': slope1\n",
    "    }\n",
    "    \n",
    "    exp_first_14 = {\n",
    "        'yhat':y_first_14,\n",
    "        'ds': ds_first_14,\n",
    "        'state': state,\n",
    "        'days': DAYS_TO_TRAIN_2,\n",
    "        'smoothing': smoothing,\n",
    "        'slope': slope2\n",
    "    }\n",
    "    \n",
    "#     joblib.dump(exp_first_7, path.join(MODELS_PATH, state, 'exp-first-7'.format(state)))\n",
    "#     joblib.dump(exp_first_14, path.join(MODELS_PATH, state, 'exp-first-14'.format(state)))\n"
   ]
  },
  {
   "cell_type": "code",
   "execution_count": 16,
   "metadata": {},
   "outputs": [
    {
     "data": {
      "text/html": [
       "<div>\n",
       "<style scoped>\n",
       "    .dataframe tbody tr th:only-of-type {\n",
       "        vertical-align: middle;\n",
       "    }\n",
       "\n",
       "    .dataframe tbody tr th {\n",
       "        vertical-align: top;\n",
       "    }\n",
       "\n",
       "    .dataframe thead th {\n",
       "        text-align: right;\n",
       "    }\n",
       "</style>\n",
       "<table border=\"1\" class=\"dataframe\">\n",
       "  <thead>\n",
       "    <tr style=\"text-align: right;\">\n",
       "      <th></th>\n",
       "      <th>cases</th>\n",
       "      <th>cured</th>\n",
       "      <th>deaths</th>\n",
       "      <th>internadosDomiciliar</th>\n",
       "      <th>internadosEnfermaria</th>\n",
       "      <th>internadosUTI</th>\n",
       "      <th>percentual_cured</th>\n",
       "      <th>percentual_deaths</th>\n",
       "      <th>percentual_internados</th>\n",
       "      <th>percentual_internadosDomiciliar</th>\n",
       "      <th>percentual_internadosEnfermaria</th>\n",
       "      <th>percentual_internadosUTI</th>\n",
       "      <th>refuses</th>\n",
       "      <th>suspects</th>\n",
       "      <th>total_internados_DB</th>\n",
       "    </tr>\n",
       "    <tr>\n",
       "      <th>data</th>\n",
       "      <th></th>\n",
       "      <th></th>\n",
       "      <th></th>\n",
       "      <th></th>\n",
       "      <th></th>\n",
       "      <th></th>\n",
       "      <th></th>\n",
       "      <th></th>\n",
       "      <th></th>\n",
       "      <th></th>\n",
       "      <th></th>\n",
       "      <th></th>\n",
       "      <th></th>\n",
       "      <th></th>\n",
       "      <th></th>\n",
       "    </tr>\n",
       "  </thead>\n",
       "  <tbody>\n",
       "    <tr>\n",
       "      <th>19/03/2020</th>\n",
       "      <td>1</td>\n",
       "      <td>0</td>\n",
       "      <td>0</td>\n",
       "      <td>0</td>\n",
       "      <td>0</td>\n",
       "      <td>0</td>\n",
       "      <td>0</td>\n",
       "      <td>0</td>\n",
       "      <td>0</td>\n",
       "      <td>0</td>\n",
       "      <td>0</td>\n",
       "      <td>0</td>\n",
       "      <td>0</td>\n",
       "      <td>0</td>\n",
       "      <td>0</td>\n",
       "    </tr>\n",
       "    <tr>\n",
       "      <th>20/03/2020</th>\n",
       "      <td>1</td>\n",
       "      <td>0</td>\n",
       "      <td>0</td>\n",
       "      <td>0</td>\n",
       "      <td>0</td>\n",
       "      <td>0</td>\n",
       "      <td>0</td>\n",
       "      <td>0</td>\n",
       "      <td>0</td>\n",
       "      <td>0</td>\n",
       "      <td>0</td>\n",
       "      <td>0</td>\n",
       "      <td>0</td>\n",
       "      <td>0</td>\n",
       "      <td>0</td>\n",
       "    </tr>\n",
       "    <tr>\n",
       "      <th>21/03/2020</th>\n",
       "      <td>2</td>\n",
       "      <td>0</td>\n",
       "      <td>0</td>\n",
       "      <td>0</td>\n",
       "      <td>0</td>\n",
       "      <td>0</td>\n",
       "      <td>0</td>\n",
       "      <td>0</td>\n",
       "      <td>0</td>\n",
       "      <td>0</td>\n",
       "      <td>0</td>\n",
       "      <td>0</td>\n",
       "      <td>0</td>\n",
       "      <td>0</td>\n",
       "      <td>0</td>\n",
       "    </tr>\n",
       "    <tr>\n",
       "      <th>22/03/2020</th>\n",
       "      <td>2</td>\n",
       "      <td>0</td>\n",
       "      <td>0</td>\n",
       "      <td>0</td>\n",
       "      <td>0</td>\n",
       "      <td>0</td>\n",
       "      <td>0</td>\n",
       "      <td>0</td>\n",
       "      <td>0</td>\n",
       "      <td>0</td>\n",
       "      <td>0</td>\n",
       "      <td>0</td>\n",
       "      <td>0</td>\n",
       "      <td>0</td>\n",
       "      <td>0</td>\n",
       "    </tr>\n",
       "    <tr>\n",
       "      <th>23/03/2020</th>\n",
       "      <td>5</td>\n",
       "      <td>0</td>\n",
       "      <td>0</td>\n",
       "      <td>0</td>\n",
       "      <td>0</td>\n",
       "      <td>0</td>\n",
       "      <td>0</td>\n",
       "      <td>0</td>\n",
       "      <td>0</td>\n",
       "      <td>0</td>\n",
       "      <td>0</td>\n",
       "      <td>0</td>\n",
       "      <td>0</td>\n",
       "      <td>0</td>\n",
       "      <td>0</td>\n",
       "    </tr>\n",
       "    <tr>\n",
       "      <th>24/03/2020</th>\n",
       "      <td>7</td>\n",
       "      <td>0</td>\n",
       "      <td>0</td>\n",
       "      <td>0</td>\n",
       "      <td>0</td>\n",
       "      <td>0</td>\n",
       "      <td>0</td>\n",
       "      <td>0</td>\n",
       "      <td>0</td>\n",
       "      <td>0</td>\n",
       "      <td>0</td>\n",
       "      <td>0</td>\n",
       "      <td>0</td>\n",
       "      <td>0</td>\n",
       "      <td>0</td>\n",
       "    </tr>\n",
       "    <tr>\n",
       "      <th>25/03/2020</th>\n",
       "      <td>7</td>\n",
       "      <td>0</td>\n",
       "      <td>0</td>\n",
       "      <td>0</td>\n",
       "      <td>0</td>\n",
       "      <td>0</td>\n",
       "      <td>0</td>\n",
       "      <td>0</td>\n",
       "      <td>0</td>\n",
       "      <td>0</td>\n",
       "      <td>0</td>\n",
       "      <td>0</td>\n",
       "      <td>0</td>\n",
       "      <td>0</td>\n",
       "      <td>0</td>\n",
       "    </tr>\n",
       "    <tr>\n",
       "      <th>26/03/2020</th>\n",
       "      <td>7</td>\n",
       "      <td>0</td>\n",
       "      <td>0</td>\n",
       "      <td>0</td>\n",
       "      <td>0</td>\n",
       "      <td>0</td>\n",
       "      <td>0</td>\n",
       "      <td>0</td>\n",
       "      <td>0</td>\n",
       "      <td>0</td>\n",
       "      <td>0</td>\n",
       "      <td>0</td>\n",
       "      <td>0</td>\n",
       "      <td>0</td>\n",
       "      <td>0</td>\n",
       "    </tr>\n",
       "    <tr>\n",
       "      <th>27/03/2020</th>\n",
       "      <td>8</td>\n",
       "      <td>0</td>\n",
       "      <td>0</td>\n",
       "      <td>0</td>\n",
       "      <td>0</td>\n",
       "      <td>0</td>\n",
       "      <td>0</td>\n",
       "      <td>0</td>\n",
       "      <td>0</td>\n",
       "      <td>0</td>\n",
       "      <td>0</td>\n",
       "      <td>0</td>\n",
       "      <td>0</td>\n",
       "      <td>0</td>\n",
       "      <td>0</td>\n",
       "    </tr>\n",
       "    <tr>\n",
       "      <th>28/03/2020</th>\n",
       "      <td>9</td>\n",
       "      <td>0</td>\n",
       "      <td>0</td>\n",
       "      <td>0</td>\n",
       "      <td>0</td>\n",
       "      <td>0</td>\n",
       "      <td>0</td>\n",
       "      <td>0</td>\n",
       "      <td>0</td>\n",
       "      <td>0</td>\n",
       "      <td>0</td>\n",
       "      <td>0</td>\n",
       "      <td>0</td>\n",
       "      <td>0</td>\n",
       "      <td>0</td>\n",
       "    </tr>\n",
       "    <tr>\n",
       "      <th>29/03/2020</th>\n",
       "      <td>9</td>\n",
       "      <td>0</td>\n",
       "      <td>0</td>\n",
       "      <td>0</td>\n",
       "      <td>0</td>\n",
       "      <td>0</td>\n",
       "      <td>0</td>\n",
       "      <td>0</td>\n",
       "      <td>0</td>\n",
       "      <td>0</td>\n",
       "      <td>0</td>\n",
       "      <td>0</td>\n",
       "      <td>0</td>\n",
       "      <td>0</td>\n",
       "      <td>0</td>\n",
       "    </tr>\n",
       "    <tr>\n",
       "      <th>30/03/2020</th>\n",
       "      <td>10</td>\n",
       "      <td>0</td>\n",
       "      <td>0</td>\n",
       "      <td>0</td>\n",
       "      <td>0</td>\n",
       "      <td>0</td>\n",
       "      <td>0</td>\n",
       "      <td>0</td>\n",
       "      <td>0</td>\n",
       "      <td>0</td>\n",
       "      <td>0</td>\n",
       "      <td>0</td>\n",
       "      <td>0</td>\n",
       "      <td>0</td>\n",
       "      <td>0</td>\n",
       "    </tr>\n",
       "    <tr>\n",
       "      <th>31/03/2020</th>\n",
       "      <td>11</td>\n",
       "      <td>0</td>\n",
       "      <td>0</td>\n",
       "      <td>0</td>\n",
       "      <td>0</td>\n",
       "      <td>0</td>\n",
       "      <td>0</td>\n",
       "      <td>0</td>\n",
       "      <td>0</td>\n",
       "      <td>0</td>\n",
       "      <td>0</td>\n",
       "      <td>0</td>\n",
       "      <td>0</td>\n",
       "      <td>0</td>\n",
       "      <td>0</td>\n",
       "    </tr>\n",
       "    <tr>\n",
       "      <th>01/04/2020</th>\n",
       "      <td>12</td>\n",
       "      <td>0</td>\n",
       "      <td>0</td>\n",
       "      <td>0</td>\n",
       "      <td>0</td>\n",
       "      <td>0</td>\n",
       "      <td>0</td>\n",
       "      <td>0</td>\n",
       "      <td>0</td>\n",
       "      <td>0</td>\n",
       "      <td>0</td>\n",
       "      <td>0</td>\n",
       "      <td>0</td>\n",
       "      <td>0</td>\n",
       "      <td>0</td>\n",
       "    </tr>\n",
       "    <tr>\n",
       "      <th>02/04/2020</th>\n",
       "      <td>12</td>\n",
       "      <td>0</td>\n",
       "      <td>0</td>\n",
       "      <td>0</td>\n",
       "      <td>0</td>\n",
       "      <td>0</td>\n",
       "      <td>0</td>\n",
       "      <td>0</td>\n",
       "      <td>0</td>\n",
       "      <td>0</td>\n",
       "      <td>0</td>\n",
       "      <td>0</td>\n",
       "      <td>0</td>\n",
       "      <td>0</td>\n",
       "      <td>0</td>\n",
       "    </tr>\n",
       "    <tr>\n",
       "      <th>03/04/2020</th>\n",
       "      <td>12</td>\n",
       "      <td>0</td>\n",
       "      <td>0</td>\n",
       "      <td>0</td>\n",
       "      <td>0</td>\n",
       "      <td>0</td>\n",
       "      <td>0</td>\n",
       "      <td>0</td>\n",
       "      <td>0</td>\n",
       "      <td>0</td>\n",
       "      <td>0</td>\n",
       "      <td>0</td>\n",
       "      <td>0</td>\n",
       "      <td>0</td>\n",
       "      <td>0</td>\n",
       "    </tr>\n",
       "    <tr>\n",
       "      <th>04/04/2020</th>\n",
       "      <td>14</td>\n",
       "      <td>0</td>\n",
       "      <td>0</td>\n",
       "      <td>0</td>\n",
       "      <td>0</td>\n",
       "      <td>0</td>\n",
       "      <td>0</td>\n",
       "      <td>0</td>\n",
       "      <td>0</td>\n",
       "      <td>0</td>\n",
       "      <td>0</td>\n",
       "      <td>0</td>\n",
       "      <td>0</td>\n",
       "      <td>0</td>\n",
       "      <td>0</td>\n",
       "    </tr>\n",
       "    <tr>\n",
       "      <th>05/04/2020</th>\n",
       "      <td>17</td>\n",
       "      <td>0</td>\n",
       "      <td>0</td>\n",
       "      <td>0</td>\n",
       "      <td>0</td>\n",
       "      <td>0</td>\n",
       "      <td>0</td>\n",
       "      <td>0</td>\n",
       "      <td>0</td>\n",
       "      <td>0</td>\n",
       "      <td>0</td>\n",
       "      <td>0</td>\n",
       "      <td>0</td>\n",
       "      <td>0</td>\n",
       "      <td>0</td>\n",
       "    </tr>\n",
       "    <tr>\n",
       "      <th>06/04/2020</th>\n",
       "      <td>17</td>\n",
       "      <td>0</td>\n",
       "      <td>0</td>\n",
       "      <td>0</td>\n",
       "      <td>0</td>\n",
       "      <td>0</td>\n",
       "      <td>0</td>\n",
       "      <td>0</td>\n",
       "      <td>0</td>\n",
       "      <td>0</td>\n",
       "      <td>0</td>\n",
       "      <td>0</td>\n",
       "      <td>0</td>\n",
       "      <td>0</td>\n",
       "      <td>0</td>\n",
       "    </tr>\n",
       "    <tr>\n",
       "      <th>07/04/2020</th>\n",
       "      <td>19</td>\n",
       "      <td>0</td>\n",
       "      <td>0</td>\n",
       "      <td>0</td>\n",
       "      <td>0</td>\n",
       "      <td>0</td>\n",
       "      <td>0</td>\n",
       "      <td>0</td>\n",
       "      <td>0</td>\n",
       "      <td>0</td>\n",
       "      <td>0</td>\n",
       "      <td>0</td>\n",
       "      <td>0</td>\n",
       "      <td>0</td>\n",
       "      <td>0</td>\n",
       "    </tr>\n",
       "  </tbody>\n",
       "</table>\n",
       "</div>"
      ],
      "text/plain": [
       "            cases  cured  deaths  internadosDomiciliar  internadosEnfermaria  \\\n",
       "data                                                                           \n",
       "19/03/2020      1      0       0                     0                     0   \n",
       "20/03/2020      1      0       0                     0                     0   \n",
       "21/03/2020      2      0       0                     0                     0   \n",
       "22/03/2020      2      0       0                     0                     0   \n",
       "23/03/2020      5      0       0                     0                     0   \n",
       "24/03/2020      7      0       0                     0                     0   \n",
       "25/03/2020      7      0       0                     0                     0   \n",
       "26/03/2020      7      0       0                     0                     0   \n",
       "27/03/2020      8      0       0                     0                     0   \n",
       "28/03/2020      9      0       0                     0                     0   \n",
       "29/03/2020      9      0       0                     0                     0   \n",
       "30/03/2020     10      0       0                     0                     0   \n",
       "31/03/2020     11      0       0                     0                     0   \n",
       "01/04/2020     12      0       0                     0                     0   \n",
       "02/04/2020     12      0       0                     0                     0   \n",
       "03/04/2020     12      0       0                     0                     0   \n",
       "04/04/2020     14      0       0                     0                     0   \n",
       "05/04/2020     17      0       0                     0                     0   \n",
       "06/04/2020     17      0       0                     0                     0   \n",
       "07/04/2020     19      0       0                     0                     0   \n",
       "\n",
       "            internadosUTI  percentual_cured  percentual_deaths  \\\n",
       "data                                                             \n",
       "19/03/2020              0                 0                  0   \n",
       "20/03/2020              0                 0                  0   \n",
       "21/03/2020              0                 0                  0   \n",
       "22/03/2020              0                 0                  0   \n",
       "23/03/2020              0                 0                  0   \n",
       "24/03/2020              0                 0                  0   \n",
       "25/03/2020              0                 0                  0   \n",
       "26/03/2020              0                 0                  0   \n",
       "27/03/2020              0                 0                  0   \n",
       "28/03/2020              0                 0                  0   \n",
       "29/03/2020              0                 0                  0   \n",
       "30/03/2020              0                 0                  0   \n",
       "31/03/2020              0                 0                  0   \n",
       "01/04/2020              0                 0                  0   \n",
       "02/04/2020              0                 0                  0   \n",
       "03/04/2020              0                 0                  0   \n",
       "04/04/2020              0                 0                  0   \n",
       "05/04/2020              0                 0                  0   \n",
       "06/04/2020              0                 0                  0   \n",
       "07/04/2020              0                 0                  0   \n",
       "\n",
       "            percentual_internados  percentual_internadosDomiciliar  \\\n",
       "data                                                                 \n",
       "19/03/2020                      0                                0   \n",
       "20/03/2020                      0                                0   \n",
       "21/03/2020                      0                                0   \n",
       "22/03/2020                      0                                0   \n",
       "23/03/2020                      0                                0   \n",
       "24/03/2020                      0                                0   \n",
       "25/03/2020                      0                                0   \n",
       "26/03/2020                      0                                0   \n",
       "27/03/2020                      0                                0   \n",
       "28/03/2020                      0                                0   \n",
       "29/03/2020                      0                                0   \n",
       "30/03/2020                      0                                0   \n",
       "31/03/2020                      0                                0   \n",
       "01/04/2020                      0                                0   \n",
       "02/04/2020                      0                                0   \n",
       "03/04/2020                      0                                0   \n",
       "04/04/2020                      0                                0   \n",
       "05/04/2020                      0                                0   \n",
       "06/04/2020                      0                                0   \n",
       "07/04/2020                      0                                0   \n",
       "\n",
       "            percentual_internadosEnfermaria  percentual_internadosUTI  \\\n",
       "data                                                                    \n",
       "19/03/2020                                0                         0   \n",
       "20/03/2020                                0                         0   \n",
       "21/03/2020                                0                         0   \n",
       "22/03/2020                                0                         0   \n",
       "23/03/2020                                0                         0   \n",
       "24/03/2020                                0                         0   \n",
       "25/03/2020                                0                         0   \n",
       "26/03/2020                                0                         0   \n",
       "27/03/2020                                0                         0   \n",
       "28/03/2020                                0                         0   \n",
       "29/03/2020                                0                         0   \n",
       "30/03/2020                                0                         0   \n",
       "31/03/2020                                0                         0   \n",
       "01/04/2020                                0                         0   \n",
       "02/04/2020                                0                         0   \n",
       "03/04/2020                                0                         0   \n",
       "04/04/2020                                0                         0   \n",
       "05/04/2020                                0                         0   \n",
       "06/04/2020                                0                         0   \n",
       "07/04/2020                                0                         0   \n",
       "\n",
       "            refuses  suspects  total_internados_DB  \n",
       "data                                                \n",
       "19/03/2020        0         0                    0  \n",
       "20/03/2020        0         0                    0  \n",
       "21/03/2020        0         0                    0  \n",
       "22/03/2020        0         0                    0  \n",
       "23/03/2020        0         0                    0  \n",
       "24/03/2020        0         0                    0  \n",
       "25/03/2020        0         0                    0  \n",
       "26/03/2020        0         0                    0  \n",
       "27/03/2020        0         0                    0  \n",
       "28/03/2020        0         0                    0  \n",
       "29/03/2020        0         0                    0  \n",
       "30/03/2020        0         0                    0  \n",
       "31/03/2020        0         0                    0  \n",
       "01/04/2020        0         0                    0  \n",
       "02/04/2020        0         0                    0  \n",
       "03/04/2020        0         0                    0  \n",
       "04/04/2020        0         0                    0  \n",
       "05/04/2020        0         0                    0  \n",
       "06/04/2020        0         0                    0  \n",
       "07/04/2020        0         0                    0  "
      ]
     },
     "execution_count": 16,
     "metadata": {},
     "output_type": "execute_result"
    }
   ],
   "source": [
    "df_state.iloc[:20]"
   ]
  },
  {
   "cell_type": "code",
   "execution_count": 17,
   "metadata": {},
   "outputs": [
    {
     "data": {
      "text/plain": [
       "{'yhat': array([13.40099815, 14.78434085, 16.31048164, 17.99416112, 19.85164151,\n",
       "        21.90086373, 24.16162069, 26.65574845, 29.40733713, 32.44296362,\n",
       "        35.79194823, 39.48663795]),\n",
       " 'ds': ['Thu, 02 Apr 2020 00:04:00',\n",
       "  'Fri, 03 Apr 2020 00:04:00',\n",
       "  'Sat, 04 Apr 2020 00:04:00',\n",
       "  'Sun, 05 Apr 2020 00:04:00',\n",
       "  'Mon, 06 Apr 2020 00:04:00',\n",
       "  'Tue, 07 Apr 2020 00:04:00',\n",
       "  'Wed, 08 Apr 2020 00:04:00',\n",
       "  'Thu, 09 Apr 2020 00:04:00',\n",
       "  'Fri, 10 Apr 2020 00:04:00',\n",
       "  'Sat, 11 Apr 2020 00:04:00',\n",
       "  'Sun, 12 Apr 2020 00:04:00',\n",
       "  'Mon, 13 Apr 2020 00:04:00'],\n",
       " 'state': 'TO',\n",
       " 'days': 14,\n",
       " 'smoothing': 0.5,\n",
       " 'slope': 0.05}"
      ]
     },
     "execution_count": 17,
     "metadata": {},
     "output_type": "execute_result"
    }
   ],
   "source": [
    "exp_first_14"
   ]
  },
  {
   "cell_type": "code",
   "execution_count": 18,
   "metadata": {},
   "outputs": [
    {
     "data": {
      "text/plain": [
       "'TO'"
      ]
     },
     "execution_count": 18,
     "metadata": {},
     "output_type": "execute_result"
    }
   ],
   "source": [
    "exp_first_7['state']"
   ]
  },
  {
   "cell_type": "code",
   "execution_count": 19,
   "metadata": {},
   "outputs": [
    {
     "data": {
      "text/plain": [
       "(19,)"
      ]
     },
     "execution_count": 19,
     "metadata": {},
     "output_type": "execute_result"
    }
   ],
   "source": [
    "exp_first_7['yhat'].shape"
   ]
  },
  {
   "cell_type": "code",
   "execution_count": 20,
   "metadata": {},
   "outputs": [
    {
     "data": {
      "text/plain": [
       "19"
      ]
     },
     "execution_count": 20,
     "metadata": {},
     "output_type": "execute_result"
    }
   ],
   "source": [
    "len(exp_first_7['ds'])"
   ]
  },
  {
   "cell_type": "code",
   "execution_count": 21,
   "metadata": {},
   "outputs": [
    {
     "data": {
      "text/plain": [
       "(12,)"
      ]
     },
     "execution_count": 21,
     "metadata": {},
     "output_type": "execute_result"
    }
   ],
   "source": [
    "exp_first_14['yhat'].shape"
   ]
  },
  {
   "cell_type": "code",
   "execution_count": 22,
   "metadata": {},
   "outputs": [
    {
     "data": {
      "text/plain": [
       "12"
      ]
     },
     "execution_count": 22,
     "metadata": {},
     "output_type": "execute_result"
    }
   ],
   "source": [
    "len(exp_first_14['ds'])"
   ]
  },
  {
   "cell_type": "code",
   "execution_count": 23,
   "metadata": {},
   "outputs": [
    {
     "data": {
      "text/plain": [
       "7.1315509657311305"
      ]
     },
     "execution_count": 23,
     "metadata": {},
     "output_type": "execute_result"
    }
   ],
   "source": [
    "exp_first_7['yhat'][0]"
   ]
  },
  {
   "cell_type": "code",
   "execution_count": 24,
   "metadata": {},
   "outputs": [
    {
     "data": {
      "text/html": [
       "<div>\n",
       "<style scoped>\n",
       "    .dataframe tbody tr th:only-of-type {\n",
       "        vertical-align: middle;\n",
       "    }\n",
       "\n",
       "    .dataframe tbody tr th {\n",
       "        vertical-align: top;\n",
       "    }\n",
       "\n",
       "    .dataframe thead th {\n",
       "        text-align: right;\n",
       "    }\n",
       "</style>\n",
       "<table border=\"1\" class=\"dataframe\">\n",
       "  <thead>\n",
       "    <tr style=\"text-align: right;\">\n",
       "      <th></th>\n",
       "      <th>y</th>\n",
       "    </tr>\n",
       "    <tr>\n",
       "      <th>data</th>\n",
       "      <th></th>\n",
       "    </tr>\n",
       "  </thead>\n",
       "  <tbody>\n",
       "    <tr>\n",
       "      <th>19/03/2020</th>\n",
       "      <td>1</td>\n",
       "    </tr>\n",
       "    <tr>\n",
       "      <th>20/03/2020</th>\n",
       "      <td>1</td>\n",
       "    </tr>\n",
       "    <tr>\n",
       "      <th>21/03/2020</th>\n",
       "      <td>2</td>\n",
       "    </tr>\n",
       "    <tr>\n",
       "      <th>22/03/2020</th>\n",
       "      <td>2</td>\n",
       "    </tr>\n",
       "    <tr>\n",
       "      <th>23/03/2020</th>\n",
       "      <td>5</td>\n",
       "    </tr>\n",
       "    <tr>\n",
       "      <th>24/03/2020</th>\n",
       "      <td>7</td>\n",
       "    </tr>\n",
       "    <tr>\n",
       "      <th>25/03/2020</th>\n",
       "      <td>7</td>\n",
       "    </tr>\n",
       "  </tbody>\n",
       "</table>\n",
       "</div>"
      ],
      "text/plain": [
       "            y\n",
       "data         \n",
       "19/03/2020  1\n",
       "20/03/2020  1\n",
       "21/03/2020  2\n",
       "22/03/2020  2\n",
       "23/03/2020  5\n",
       "24/03/2020  7\n",
       "25/03/2020  7"
      ]
     },
     "execution_count": 24,
     "metadata": {},
     "output_type": "execute_result"
    }
   ],
   "source": [
    "utils.porra(df_state.iloc[:7])"
   ]
  },
  {
   "cell_type": "code",
   "execution_count": 15,
   "metadata": {},
   "outputs": [
    {
     "data": {
      "image/png": "[encoded data removed]",
      "text/plain": [
       "<Figure size 432x288 with 1 Axes>"
      ]
     },
     "metadata": {
      "needs_background": "light"
     },
     "output_type": "display_data"
    }
   ],
   "source": [
    "%matplotlib inline\n",
    "from ipywidgets import interactive\n",
    "import matplotlib.pyplot as plt\n",
    "import numpy as np\n",
    "\n",
    "def f(m, b):\n",
    "    plt.figure(2)\n",
    "    x = np.linspace(-10, 10, num=1000)\n",
    "    plt.plot(x, m * x + b)\n",
    "    plt.ylim(-5, 5)\n",
    "    plt.show()\n",
    "\n",
    "interactive_plot = interactive(f, m=(-2.0, 2.0), b=(-3, 3, 0.5))\n",
    "output = interactive_plot.children[-1]\n",
    "output.layout.height = '350px'\n",
    "interactive_plot"
   ]
  },
  {
   "cell_type": "code",
   "execution_count": 16,
   "metadata": {},
   "outputs": [],
   "source": [
    "import warnings\n",
    "warnings.filterwarnings(\"ignore\")\n",
    "from ipywidgets import interactive\n",
    "\n",
    "\n",
    "def f(state='TO', days_to_train1=7, days_to_train2=14, smoothing1=0.5, smoothing2=0.5, slope1=0.05, slope2=0.05):\n",
    "    \n",
    "    \n",
    "    df_state = utils.download_state(state=state)\n",
    "    df_state = df_state[df_state['cases'] != 0]\n",
    "    dayone = df_state[df_state['cases'] != 0].index[0]\n",
    "    days = np.array(utils.count_days(dayone=dayone, date_string='%d/%m/%Y'))\n",
    "    X = days.reshape(-1,1)\n",
    "    y = utils.get_labels(df_state['cases']).reshape(-1,1)\n",
    "    X, y = utils.check_inputs(X, y)\n",
    "\n",
    "    DAYS_TO_TRAIN = 7\n",
    "    forecast_last_7 = holt_predict(utils.porra(df_state.iloc[-DAYS_TO_TRAIN:]), var_future=14, smoothing_level=0.5, smoothing_slope=0.05)\n",
    "    y_last_7 = forecast_last_7.values\n",
    "    X_last_7 = np.arange(X[-1], X[-1]+14, 1)\n",
    "    X_last_7, y_last_7 = utils.check_inputs(X_last_7, y_last_7)\n",
    "    ds_last_7 = utils.format_date(df_state.iloc[-DAYS_TO_TRAIN:].index.tolist(), date_string_input='%d/%m/%Y')\n",
    "\n",
    "\n",
    "    \n",
    "    DAYS_TO_TRAIN_1 = days_to_train1\n",
    "    days_to_predict = df_state.shape[0] - DAYS_TO_TRAIN_1\n",
    "    forecast_first_7 = holt_predict(utils.porra(df_state.iloc[:DAYS_TO_TRAIN_1]), var_future=days_to_predict, smoothing_level=smoothing1, smoothing_slope=slope1)\n",
    "    y_first_7 = forecast_first_7.values\n",
    "    X_first_7 = X[DAYS_TO_TRAIN_1:]\n",
    "    X_first_7, y_first_7 = utils.check_inputs(X_first_7, y_first_7)\n",
    "    ds_first_7 = utils.format_date(df_state.iloc[DAYS_TO_TRAIN_1:].index.tolist(), date_string_input='%d/%m/%Y')\n",
    "    \n",
    "    \n",
    "    DAYS_TO_TRAIN_2 = days_to_train2\n",
    "    days_to_predict = df_state.shape[0] - DAYS_TO_TRAIN_2\n",
    "    forecast_first_14 = holt_predict(utils.porra(df_state.iloc[:DAYS_TO_TRAIN_2]), var_future=days_to_predict, smoothing_level=smoothing2, smoothing_slope=slope2)\n",
    "    y_first_14 = forecast_first_14.values\n",
    "    X_first_14 = X[DAYS_TO_TRAIN_2:]\n",
    "    X_first_14, y_first_14 = utils.check_inputs(X_first_14, y_first_14)\n",
    "    ds_first_14 = utils.format_date(df_state.iloc[DAYS_TO_TRAIN_2:].index.tolist(), date_string_input='%d/%m/%Y')\n",
    "    \n",
    "    \n",
    "    plt.figure(figsize=(7,5))\n",
    "\n",
    "    plt.plot(X, y, 'black', linewidth=2, label='Real Data')\n",
    "    plt.plot(X_first_7, y_first_7, label='Crescimento exponencial usando os primeiros {} dias'.format(DAYS_TO_TRAIN_1))\n",
    "    plt.plot(X_first_14, y_first_14, label='Crescimento exponencial usando os primeiros {} dias'.format(DAYS_TO_TRAIN_2))\n",
    "    plt.plot(X_last_7, y_last_7, label='Predição futura')\n",
    "\n",
    "    plt.legend(fontsize=10)\n",
    "    plt.ylim(0, y[-1]*5)\n",
    "\n",
    "    plt.savefig('{}-comparativo.png'.format(state))\n",
    "\n",
    "    plt.show()\n",
    "\n",
    "    exp_first_7 = {\n",
    "        'yhat':y_first_7,\n",
    "        'ds': ds_first_7,\n",
    "        'state': state,\n",
    "        'days': DAYS_TO_TRAIN_1,\n",
    "        'smoothing': smoothing1,\n",
    "        'slope': slope1\n",
    "    }\n",
    "    \n",
    "    exp_first_14 = {\n",
    "        'yhat':y_first_14,\n",
    "        'ds': ds_first_14,\n",
    "        'state': state,\n",
    "        'days': DAYS_TO_TRAIN_2,\n",
    "        'smoothing': smoothing2,\n",
    "        'slope': slope2\n",
    "    }\n",
    "    \n",
    "#     joblib.dump(exp_first_7, path.join(MODELS_PATH, state, 'exp-first-7'.format(state)))\n",
    "#     joblib.dump(exp_first_14, path.join(MODELS_PATH, state, 'exp-first-14'.format(state)))\n",
    "    \n",
    "#     model_exp_7 = joblib.load(path.join(MODELS_PATH, state, 'exp-first-7'.format(state)))\n",
    "    \n",
    "#     print('Model with {}'.format(DAYS_TO_TRAIN_1))\n",
    "#     print('State: {}'.format(model_exp_7['state']))\n",
    "#     print('Days: {}'.format(model_exp_7['days']))\n",
    "#     print('smoothing: {}'.format(model_exp_7['smoothing']))\n",
    "#     print('slope: {}'.format(model_exp_7['slope']))\n",
    "    \n",
    "#     model_exp_14 = joblib.load(path.join(MODELS_PATH, state, 'exp-first-14'.format(state)))\n",
    "    \n",
    "#     print('Model with {}'.format(DAYS_TO_TRAIN_2))\n",
    "#     print('State: {}'.format(model_exp_14['state']))\n",
    "#     print('Days: {}'.format(model_exp_14['days']))\n",
    "#     print('smoothing: {}'.format(model_exp_14['smoothing']))\n",
    "#     print('slope: {}'.format(model_exp_14['slope']))\n",
    "\n",
    "    "
   ]
  },
  {
   "cell_type": "code",
   "execution_count": 17,
   "metadata": {},
   "outputs": [
    {
     "data": {
      "image/png": "[encoded data removed]",
      "text/plain": [
       "<Figure size 504x360 with 1 Axes>"
      ]
     },
     "metadata": {
      "needs_background": "light"
     },
     "output_type": "display_data"
    }
   ],
   "source": [
    "STATES = ['AC', 'AL', 'AM', 'AP', 'BA', 'CE',\n",
    "         'DF', 'ES', 'GO', 'MA', 'MT', 'MS',\n",
    "         'MG', 'PA', 'PB', 'PR', 'PE', 'PI',\n",
    "         'RJ', 'RN', 'RO', 'RS', 'RR', 'SC',\n",
    "         'SE', 'SP', 'TO']\n",
    "\n",
    "interactive_plot = interactive(f, state=STATES, days_to_train1=(3, 14), days_to_train2=(10, 21), \n",
    "                                smoothing1=(0.2, 5), smoothing2=(0.2, 5, 0.01), slope1=(0.01, 3, 0.01), slope2=(0.01, 3, 0.01))\n",
    "output = interactive_plot.children[-1]\n",
    "output.layout.height = '350px'\n",
    "interactive_plot"
   ]
  },
  {
   "cell_type": "code",
   "execution_count": null,
   "metadata": {},
   "outputs": [],
   "source": [
    "joblib"
   ]
  }
 ],
 "metadata": {
  "kernelspec": {
   "display_name": "Python data-science",
   "language": "python",
   "name": "python-data-science"
  },
  "language_info": {
   "codemirror_mode": {
    "name": "ipython",
    "version": 3
   },
   "file_extension": ".py",
   "mimetype": "text/x-python",
   "name": "python",
   "nbconvert_exporter": "python",
   "pygments_lexer": "ipython3",
   "version": "3.7.7"
  }
 },
 "nbformat": 4,
 "nbformat_minor": 4
}

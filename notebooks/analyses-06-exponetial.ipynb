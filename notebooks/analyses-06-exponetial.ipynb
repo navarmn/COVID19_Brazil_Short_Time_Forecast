{
 "cells": [
  {
   "cell_type": "code",
   "execution_count": 1,
   "metadata": {},
   "outputs": [
    {
     "ename": "ModuleNotFoundError",
     "evalue": "No module named 'src'",
     "output_type": "error",
     "traceback": [
      "\u001b[0;31m---------------------------------------------------------------------------\u001b[0m",
      "\u001b[0;31mModuleNotFoundError\u001b[0m                       Traceback (most recent call last)",
      "\u001b[0;32m<ipython-input-1-2f7cc27f5e68>\u001b[0m in \u001b[0;36m<module>\u001b[0;34m\u001b[0m\n\u001b[1;32m      7\u001b[0m \u001b[0msys\u001b[0m\u001b[0;34m.\u001b[0m\u001b[0mpath\u001b[0m\u001b[0;34m.\u001b[0m\u001b[0mappend\u001b[0m\u001b[0;34m(\u001b[0m\u001b[0;34m'..'\u001b[0m\u001b[0;34m)\u001b[0m\u001b[0;34m\u001b[0m\u001b[0;34m\u001b[0m\u001b[0m\n\u001b[1;32m      8\u001b[0m \u001b[0;34m\u001b[0m\u001b[0m\n\u001b[0;32m----> 9\u001b[0;31m \u001b[0;32mfrom\u001b[0m \u001b[0msrc\u001b[0m \u001b[0;32mimport\u001b[0m \u001b[0mutils\u001b[0m\u001b[0;34m\u001b[0m\u001b[0;34m\u001b[0m\u001b[0m\n\u001b[0m\u001b[1;32m     10\u001b[0m \u001b[0;34m\u001b[0m\u001b[0m\n\u001b[1;32m     11\u001b[0m \u001b[0;32mfrom\u001b[0m \u001b[0mos\u001b[0m \u001b[0;32mimport\u001b[0m \u001b[0mpath\u001b[0m\u001b[0;34m\u001b[0m\u001b[0;34m\u001b[0m\u001b[0m\n",
      "\u001b[0;31mModuleNotFoundError\u001b[0m: No module named 'src'"
     ]
    }
   ],
   "source": [
    "import pandas as pd\n",
    "import numpy as np\n",
    "import seaborn as sns\n",
    "import matplotlib.pyplot as plt\n",
    "from datetime import datetime, timedelta\n",
    "import sys\n",
    "sys.path.append('..')\n",
    "\n",
    "from src import utils\n",
    "\n",
    "from os import path\n",
    "import joblib\n",
    "import collections"
   ]
  },
  {
   "cell_type": "code",
   "execution_count": null,
   "metadata": {},
   "outputs": [],
   "source": [
    "MODEL_DATE = '20-04-08'\n",
    "\n",
    "DATAFOLDER_PROCESSED = '/Users/navarmn/Work/Projects/2020-Corona/dev/covid19-data-processing/data/processed'\n",
    "DATAFOLDER_RAW = '/Users/navarmn/Work/Projects/2020-Corona/data/raw'\n",
    "\n",
    "STATES = ['AC', 'AL', 'AM', 'AP', 'BA', 'CE',\n",
    "         'DF', 'ES', 'GO', 'MA', 'MT', 'MS',\n",
    "         'MG', 'PA', 'PB', 'PR', 'PE', 'PI',\n",
    "         'RJ', 'RN', 'RO', 'RS', 'RR', 'SC',\n",
    "         'SE', 'SP', 'TO']\n",
    "\n",
    "MODELS = ['linear-polynomial', 'gpr', 'linear-regression']\n",
    "\n",
    "MODELS_DETAILS = {\n",
    "    'linear-polynomial': \"Liner Regression + Polynomial Features degree 4\",\n",
    "    'gpr': \"Gaussian Process Regressor - Kernel RBF\",\n",
    "    'linear-regression': \"Liner Regression - degree 1\"\n",
    "}\n",
    "\n",
    "MODELS_PATH = path.join('..', 'models')\n",
    "\n",
    "VERSION = 0.1"
   ]
  },
  {
   "cell_type": "code",
   "execution_count": null,
   "metadata": {},
   "outputs": [],
   "source": [
    "import warnings\n",
    "warnings.filterwarnings(\"ignore\")\n",
    "from ipywidgets import interactive\n",
    "\n",
    "\n",
    "def f(state='TO', days_to_train1=7, days_to_train2=14, smoothing1=0.5, smoothing2=0.5, slope1=0.05, slope2=0.05):\n",
    "    \n",
    "    \n",
    "    df_state = utils.download_state(state=state)\n",
    "    df_state = df_state[df_state['cases'] != 0]\n",
    "    dayone = df_state[df_state['cases'] != 0].index[0]\n",
    "    days = np.array(utils.count_days(dayone=dayone, date_string='%d/%m/%Y'))\n",
    "    X = days.reshape(-1,1)\n",
    "    y = utils.get_labels(df_state['cases']).reshape(-1,1)\n",
    "    X, y = utils.check_inputs(X, y)\n",
    "\n",
    "    DAYS_TO_TRAIN = 7\n",
    "    forecast_last_7 = holt_predict(utils.porra(df_state.iloc[-DAYS_TO_TRAIN:]), var_future=14, smoothing_level=0.5, smoothing_slope=0.05)\n",
    "    y_last_7 = forecast_last_7.values\n",
    "    X_last_7 = np.arange(X[-1], X[-1]+14, 1)\n",
    "    X_last_7, y_last_7 = utils.check_inputs(X_last_7, y_last_7)\n",
    "    ds_last_7 = utils.format_date(df_state.iloc[-DAYS_TO_TRAIN:].index.tolist(), date_string_input='%d/%m/%Y')\n",
    "\n",
    "\n",
    "    \n",
    "    DAYS_TO_TRAIN_1 = days_to_train1\n",
    "    days_to_predict = df_state.shape[0] - DAYS_TO_TRAIN_1\n",
    "    forecast_first_7 = holt_predict(utils.porra(df_state.iloc[:DAYS_TO_TRAIN_1]), var_future=days_to_predict, smoothing_level=smoothing1, smoothing_slope=slope1)\n",
    "    y_first_7 = forecast_first_7.values\n",
    "    X_first_7 = X[DAYS_TO_TRAIN_1:]\n",
    "    X_first_7, y_first_7 = utils.check_inputs(X_first_7, y_first_7)\n",
    "    ds_first_7 = utils.format_date(df_state.iloc[DAYS_TO_TRAIN_1:].index.tolist(), date_string_input='%d/%m/%Y')\n",
    "    \n",
    "    \n",
    "    DAYS_TO_TRAIN_2 = days_to_train2\n",
    "    days_to_predict = df_state.shape[0] - DAYS_TO_TRAIN_2\n",
    "    forecast_first_14 = holt_predict(utils.porra(df_state.iloc[:DAYS_TO_TRAIN_2]), var_future=days_to_predict, smoothing_level=smoothing2, smoothing_slope=slope2)\n",
    "    y_first_14 = forecast_first_14.values\n",
    "    X_first_14 = X[DAYS_TO_TRAIN_2:]\n",
    "    X_first_14, y_first_14 = utils.check_inputs(X_first_14, y_first_14)\n",
    "    ds_first_14 = utils.format_date(df_state.iloc[DAYS_TO_TRAIN_2:].index.tolist(), date_string_input='%d/%m/%Y')\n",
    "    \n",
    "    \n",
    "    plt.figure(figsize=(7,5))\n",
    "\n",
    "    plt.plot(X, y, 'black', linewidth=2, label='Real Data')\n",
    "    plt.plot(X_first_7, y_first_7, label='Crescimento exponencial usando os primeiros {} dias'.format(DAYS_TO_TRAIN_1))\n",
    "    plt.plot(X_first_14, y_first_14, label='Crescimento exponencial usando os primeiros {} dias'.format(DAYS_TO_TRAIN_2))\n",
    "    plt.plot(X_last_7, y_last_7, label='Predição futura')\n",
    "\n",
    "    plt.legend(fontsize=10)\n",
    "    plt.ylim(0, y[-1]*5)\n",
    "\n",
    "    plt.savefig('{}-comparativo.png'.format(state))\n",
    "\n",
    "    plt.show()\n",
    "\n",
    "    exp_first_7 = {\n",
    "        'yhat':y_first_7,\n",
    "        'ds': ds_first_7,\n",
    "        'state': state,\n",
    "        'days': DAYS_TO_TRAIN_1,\n",
    "        'smoothing': smoothing1,\n",
    "        'slope': slope1\n",
    "    }\n",
    "    \n",
    "    exp_first_14 = {\n",
    "        'yhat':y_first_14,\n",
    "        'ds': ds_first_14,\n",
    "        'state': state,\n",
    "        'days': DAYS_TO_TRAIN_2,\n",
    "        'smoothing': smoothing2,\n",
    "        'slope': slope2\n",
    "    }\n",
    "\n",
    "    "
   ]
  },
  {
   "cell_type": "code",
   "execution_count": null,
   "metadata": {},
   "outputs": [],
   "source": [
    "STATES = ['AC', 'AL', 'AM', 'AP', 'BA', 'CE',\n",
    "         'DF', 'ES', 'GO', 'MA', 'MT', 'MS',\n",
    "         'MG', 'PA', 'PB', 'PR', 'PE', 'PI',\n",
    "         'RJ', 'RN', 'RO', 'RS', 'RR', 'SC',\n",
    "         'SE', 'SP', 'TO']\n",
    "\n",
    "interactive_plot = interactive(f, state=STATES, days_to_train=(3, 14), smoothing=(0.2, 5, 0.01), slope=(0.01, 3, 0.01))\n",
    "output = interactive_plot.children[-1]\n",
    "output.layout.height = '350px'\n",
    "interactive_plot"
   ]
  },
  {
   "cell_type": "code",
   "execution_count": null,
   "metadata": {},
   "outputs": [],
   "source": [
    "%matplotlib inline\n",
    "from ipywidgets import interactive\n",
    "import matplotlib.pyplot as plt\n",
    "import numpy as np\n",
    "\n",
    "def f(m, b):\n",
    "    plt.figure(2)\n",
    "    x = np.linspace(-10, 10, num=1000)\n",
    "    plt.plot(x, m * x + b)\n",
    "    plt.ylim(-5, 5)\n",
    "    plt.show()\n",
    "\n",
    "interactive_plot = interactive(f, m=(-2.0, 2.0), b=(-3, 3, 0.5))\n",
    "output = interactive_plot.children[-1]\n",
    "output.layout.height = '350px'\n",
    "interactive_plot"
   ]
  },
  {
   "cell_type": "code",
   "execution_count": null,
   "metadata": {},
   "outputs": [],
   "source": []
  },
  {
   "cell_type": "code",
   "execution_count": null,
   "metadata": {},
   "outputs": [],
   "source": []
  },
  {
   "cell_type": "code",
   "execution_count": null,
   "metadata": {},
   "outputs": [],
   "source": []
  },
  {
   "cell_type": "code",
   "execution_count": null,
   "metadata": {},
   "outputs": [],
   "source": []
  },
  {
   "cell_type": "code",
   "execution_count": null,
   "metadata": {},
   "outputs": [],
   "source": []
  },
  {
   "cell_type": "code",
   "execution_count": null,
   "metadata": {},
   "outputs": [],
   "source": []
  },
  {
   "cell_type": "code",
   "execution_count": null,
   "metadata": {},
   "outputs": [],
   "source": []
  }
 ],
 "metadata": {
  "kernelspec": {
   "display_name": "Python data-science",
   "language": "python",
   "name": "python-data-science"
  },
  "language_info": {
   "codemirror_mode": {
    "name": "ipython",
    "version": 3
   },
   "file_extension": ".py",
   "mimetype": "text/x-python",
   "name": "python",
   "nbconvert_exporter": "python",
   "pygments_lexer": "ipython3",
   "version": "3.7.7"
  }
 },
 "nbformat": 4,
 "nbformat_minor": 4
}
